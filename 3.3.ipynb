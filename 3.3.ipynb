{
 "cells": [
  {
   "cell_type": "markdown",
   "metadata": {
    "deletable": true,
    "editable": true
   },
   "source": [
    "Как обычно, первым делом подключаем нужные нам библиотеки."
   ]
  },
  {
   "cell_type": "code",
   "execution_count": 1,
   "metadata": {
    "collapsed": true,
    "deletable": true,
    "editable": true
   },
   "outputs": [],
   "source": [
    "import numpy as np\n",
    "import matplotlib.pyplot as plt\n",
    "import scipy.stats as sps\n",
    "import math"
   ]
  },
  {
   "cell_type": "markdown",
   "metadata": {
    "deletable": true,
    "editable": true
   },
   "source": [
    "Теперь загружаем нашу выборку из файла:"
   ]
  },
  {
   "cell_type": "code",
   "execution_count": 2,
   "metadata": {
    "collapsed": false,
    "deletable": true,
    "editable": true
   },
   "outputs": [],
   "source": [
    "file_getch = open('/home/denis/Загрузки/Weibull.csv')\n",
    "sample = file_getch.readlines()\n",
    "sample = [float(x) for x in sample]\n",
    "for i in range (len(sample)):\n",
    "    if sample[i] == 0:\n",
    "        sample[i] = 10 ** -3"
   ]
  },
  {
   "cell_type": "markdown",
   "metadata": {
    "deletable": true,
    "editable": true
   },
   "source": [
    "Так как нам нужно произвести оценку методом максимального правдоподобия, то логично ввести логарифмическую функцию правдоподобия. Сначала ищем плотность нашего распределения: $p = F' = \\gamma e^{{-x}^\\gamma} x ^{\\gamma - 1}$. Далее находим функцию правдоподобия: $f = \\gamma^{n} e^{-\\sum{x_i^{\\gamma}}} \\prod{x_i^{\\gamma - 1}}$. А затем логарифмическую функцию правдоподобия: $L = n ln{\\gamma} - \\sum{x_i^{\\gamma}} + (\\gamma - 1) \\sum{ln{x_i}}$."
   ]
  },
  {
   "cell_type": "code",
   "execution_count": 3,
   "metadata": {
    "collapsed": false,
    "deletable": true,
    "editable": true
   },
   "outputs": [],
   "source": [
    "def logarifmic(k, size):\n",
    "    return sum([(k - 1.) * math.log(float(x)) + (-1.)\\\n",
    "                * (float(x)) ** k for x in sample[:(size + 1)]]) + size * math.log(float(k))"
   ]
  },
  {
   "cell_type": "markdown",
   "metadata": {
    "collapsed": true,
    "deletable": true,
    "editable": true
   },
   "source": [
    "Определяем периоды времени, по которым мы будем считать наши оценки."
   ]
  },
  {
   "cell_type": "code",
   "execution_count": 4,
   "metadata": {
    "collapsed": false,
    "deletable": true,
    "editable": true
   },
   "outputs": [],
   "source": [
    "first_period = int(len(sample) / 10 * 4) + 1\n",
    "second_period = len(sample)"
   ]
  },
  {
   "cell_type": "raw",
   "metadata": {
    "deletable": true,
    "editable": true
   },
   "source": [
    "Следующим шагом задаем сетку в логарифмической шкале."
   ]
  },
  {
   "cell_type": "code",
   "execution_count": 5,
   "metadata": {
    "collapsed": false,
    "deletable": true,
    "editable": true
   },
   "outputs": [
    {
     "name": "stdout",
     "output_type": "stream",
     "text": [
      "99990\n"
     ]
    },
    {
     "data": {
      "text/plain": [
       "array([  1.00000000e-02,   1.00009212e-02,   1.00018424e-02, ...,\n",
       "         9.99815790e+01,   9.99907891e+01,   1.00000000e+02])"
      ]
     },
     "execution_count": 5,
     "metadata": {},
     "output_type": "execute_result"
    }
   ],
   "source": [
    "points = np.logspace(-2, 2, 99990, base = 10)\n",
    "print(len(points))\n",
    "points"
   ]
  },
  {
   "cell_type": "markdown",
   "metadata": {
    "deletable": true,
    "editable": true
   },
   "source": [
    "Далее найдем точки, в которых достигается максимум для обоих периодов."
   ]
  },
  {
   "cell_type": "code",
   "execution_count": 6,
   "metadata": {
    "collapsed": false,
    "deletable": true,
    "editable": true
   },
   "outputs": [
    {
     "data": {
      "text/plain": [
       "46967"
      ]
     },
     "execution_count": 6,
     "metadata": {},
     "output_type": "execute_result"
    }
   ],
   "source": [
    "second_period_res = np.argmax([logarifmic(point, second_period) for point in points])\n",
    "second_period_res"
   ]
  },
  {
   "cell_type": "code",
   "execution_count": 7,
   "metadata": {
    "collapsed": false,
    "deletable": true,
    "editable": true
   },
   "outputs": [
    {
     "data": {
      "text/plain": [
       "46711"
      ]
     },
     "execution_count": 7,
     "metadata": {},
     "output_type": "execute_result"
    }
   ],
   "source": [
    "first_period_res = np.argmax([logarifmic(point, first_period) for point in points])\n",
    "first_period_res"
   ]
  },
  {
   "cell_type": "markdown",
   "metadata": {
    "deletable": true,
    "editable": true
   },
   "source": [
    "Теперь с лёгкостью считаем параметр формы, оцененный по методу максимального правдоподобия."
   ]
  },
  {
   "cell_type": "code",
   "execution_count": 8,
   "metadata": {
    "collapsed": false,
    "deletable": true,
    "editable": true
   },
   "outputs": [
    {
     "data": {
      "text/plain": [
       "0.75663543688029189"
      ]
     },
     "execution_count": 8,
     "metadata": {},
     "output_type": "execute_result"
    }
   ],
   "source": [
    "points[second_period_res]  # за 10 лет"
   ]
  },
  {
   "cell_type": "code",
   "execution_count": 9,
   "metadata": {
    "collapsed": false,
    "deletable": true,
    "editable": true
   },
   "outputs": [
    {
     "data": {
      "text/plain": [
       "0.73900189324099885"
      ]
     },
     "execution_count": 9,
     "metadata": {},
     "output_type": "execute_result"
    }
   ],
   "source": [
    "points[first_period_res]  # за 4 года"
   ]
  }
 ],
 "metadata": {
  "kernelspec": {
   "display_name": "Python 3",
   "language": "python",
   "name": "python3"
  },
  "language_info": {
   "codemirror_mode": {
    "name": "ipython",
    "version": 3
   },
   "file_extension": ".py",
   "mimetype": "text/x-python",
   "name": "python",
   "nbconvert_exporter": "python",
   "pygments_lexer": "ipython3",
   "version": "3.5.2+"
  }
 },
 "nbformat": 4,
 "nbformat_minor": 2
}
