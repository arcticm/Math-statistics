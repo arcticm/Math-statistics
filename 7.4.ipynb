{
 "cells": [
  {
   "cell_type": "code",
   "execution_count": 1,
   "metadata": {
    "collapsed": true,
    "deletable": true,
    "editable": true
   },
   "outputs": [],
   "source": [
    "import pandas as pd\n",
    "import numpy as np\n",
    "import random\n",
    "import scipy.stats as sps\n",
    "import matplotlib.pyplot as plt\n",
    "%matplotlib inline"
   ]
  },
  {
   "cell_type": "markdown",
   "metadata": {
    "deletable": true,
    "editable": true
   },
   "source": [
    "Известно, что сопряженным к экспоненциальному является гамма распределение $Г(\\alpha, \\beta)$ со следующими гиперпараметрами апостериорного распределения: $\\alpha + n, \\beta + \\sum_{i=1}^n X_i$."
   ]
  },
  {
   "cell_type": "markdown",
   "metadata": {
    "deletable": true,
    "editable": true
   },
   "source": [
    "Загружаем данные из файла:"
   ]
  },
  {
   "cell_type": "code",
   "execution_count": 2,
   "metadata": {
    "collapsed": false,
    "deletable": true,
    "editable": true
   },
   "outputs": [
    {
     "name": "stdout",
     "output_type": "stream",
     "text": [
      "1000\n"
     ]
    }
   ],
   "source": [
    "times_of_breaking = pd.read_csv('/home/denis/Downloads/6.csv')\n",
    "max_time = 70000\n",
    "print(len(times_of_breaking))"
   ]
  },
  {
   "cell_type": "code",
   "execution_count": 3,
   "metadata": {
    "collapsed": false,
    "deletable": true,
    "editable": true
   },
   "outputs": [],
   "source": [
    "times_of_breaking = np.asarray(times_of_breaking['Values'])"
   ]
  },
  {
   "cell_type": "markdown",
   "metadata": {
    "deletable": true,
    "editable": true
   },
   "source": [
    "Выберем параметры априорного распределения таковыми, чтобы у плотности Гамма распределения не было горба(т.к. мы не знаем ничего, как распределена $\\lambda$), и возьмем $\\beta$ так, чтобы график плотности был гладким. Если брать параметр $\\alpha$ > 1, то в окрестности некоторой точки образуется горб. Следовательно нам подходит модель с априорным распределением $\\Gamma(1,2)$. Оценкой $\\theta $ будет $\\frac{\\alpha + n}{\\beta + \\sum_{i=1}^n {X_{i}}}$. Это в случае того, когда в качестве априорного распределения мы взяли $\\Gamma(\\alpha, \\beta)$. Зададим функцию, с помощью которой мы будем оценивать параметр $\\theta$:"
   ]
  },
  {
   "cell_type": "code",
   "execution_count": 4,
   "metadata": {
    "collapsed": true,
    "deletable": true,
    "editable": true
   },
   "outputs": [],
   "source": [
    "def evaluation(alpha, beta, cumulative_sum):\n",
    "    return [(float(alpha) + float(i)) / \n",
    "            (float(beta) + float(cumulative_sum[i])) for i in range(len(times_of_breaking))]"
   ]
  },
  {
   "cell_type": "markdown",
   "metadata": {
    "deletable": true,
    "editable": true
   },
   "source": [
    "Запишем нашу выборку из экспоненциального распределения(разности между поломками):"
   ]
  },
  {
   "cell_type": "code",
   "execution_count": 5,
   "metadata": {
    "collapsed": false,
    "deletable": true,
    "editable": true
   },
   "outputs": [],
   "source": [
    "sample = [times_of_breaking[0]]\n",
    "for i in range(len(times_of_breaking) - 1):\n",
    "    sample.append(times_of_breaking[i + 1] - times_of_breaking[i])"
   ]
  },
  {
   "cell_type": "markdown",
   "metadata": {
    "deletable": true,
    "editable": true
   },
   "source": [
    "Теперь с помощью этой выборки мы можем задать массив значений $\\lambda$:"
   ]
  },
  {
   "cell_type": "code",
   "execution_count": 6,
   "metadata": {
    "collapsed": false,
    "deletable": true,
    "editable": true
   },
   "outputs": [],
   "source": [
    "lambda_values = evaluation(1, 2, np.cumsum(sample))"
   ]
  },
  {
   "cell_type": "markdown",
   "metadata": {
    "deletable": true,
    "editable": true
   },
   "source": [
    "Из задачи из раздела УМОII используем функцию, считающую условное математическое ожидание:"
   ]
  },
  {
   "cell_type": "code",
   "execution_count": 7,
   "metadata": {
    "collapsed": true,
    "deletable": true,
    "editable": true
   },
   "outputs": [],
   "source": [
    "def conditional_expectation(t, s, lambda_value) :\n",
    "    if s > max_time:\n",
    "        return float(t - s) / float(lambda_value) + len(times_of_breaking)\n",
    "    return float(t - s) / float(lambda_value) + np.where(times_of_breaking >= s)[0][0]"
   ]
  },
  {
   "cell_type": "markdown",
   "metadata": {},
   "source": [
    "Ну и выведем наши значения: break, если была поломка; УМО, если поломки не было. УМО считаем с разными lambda, которые мы оценили выше:"
   ]
  },
  {
   "cell_type": "code",
   "execution_count": 8,
   "metadata": {
    "collapsed": false
   },
   "outputs": [],
   "source": [
    "events = [(t, True) for t in times_of_breaking] + [(i, False) for i in range(1,69000,200)] \n",
    "events.sort()\n",
    "short_events = []\n",
    "for i in range(1, len(events), 10):\n",
    "    short_events.append(events[i])"
   ]
  },
  {
   "cell_type": "code",
   "execution_count": 9,
   "metadata": {
    "collapsed": false
   },
   "outputs": [
    {
     "name": "stdout",
     "output_type": "stream",
     "text": [
      "Time\tE\n",
      "158.377\tbreak\n",
      "601\t11130011.423\n",
      "1021.8233\tbreak\n",
      "1318.8093\tbreak\n",
      "1655.0349\tbreak\n",
      "2201\t5596684.7324\n",
      "2625.1881\tbreak\n",
      "3004.0609\tbreak\n",
      "3472.1577\tbreak\n",
      "3804.1451\tbreak\n",
      "4275.2071\tbreak\n",
      "5095.8533\tbreak\n",
      "5601\t4596152.38751\n",
      "6076.7039\tbreak\n",
      "6690.8602\tbreak\n",
      "7308.3547\tbreak\n",
      "7893.0347\tbreak\n",
      "8409.5739\tbreak\n",
      "9001\t4125223.8745\n",
      "9374.8468\tbreak\n",
      "10017.7219\tbreak\n",
      "10554.895\tbreak\n",
      "11001\t3827753.98564\n",
      "11662.2666\tbreak\n",
      "12201\t3646221.53439\n",
      "12813.9724\tbreak\n",
      "13241.5337\tbreak\n",
      "13674.1624\tbreak\n",
      "14263.5472\tbreak\n",
      "14601\t3058439.82775\n",
      "15161.1543\tbreak\n",
      "15601\t2951119.67476\n",
      "16201\t2918579.53226\n",
      "16601\t2896889.43726\n",
      "17001\t2875199.34226\n",
      "17483.3187\tbreak\n",
      "17828.2307\tbreak\n",
      "18411.0236\tbreak\n",
      "18801\t2603329.30204\n",
      "19401\t2572831.30426\n",
      "19963.4404\tbreak\n",
      "20420.9631\tbreak\n",
      "20899.0075\tbreak\n",
      "21201\t2554573.64443\n",
      "21640.2849\tbreak\n",
      "22279.9196\tbreak\n",
      "22661.1542\tbreak\n",
      "23401\t2340237.91834\n",
      "23920.9894\tbreak\n",
      "24159.1174\tbreak\n",
      "24622.3048\tbreak\n",
      "25166.1364\tbreak\n",
      "25661.8035\tbreak\n",
      "26348.0704\tbreak\n",
      "26746.3207\tbreak\n",
      "27103.0635\tbreak\n",
      "27582.1738\tbreak\n",
      "28121.165\tbreak\n",
      "28642.452\tbreak\n",
      "29201\t2205622.69748\n",
      "29923.1528\tbreak\n",
      "30601\t2238872.17313\n",
      "31361.7091\tbreak\n",
      "31873.5193\tbreak\n",
      "32832.3545\tbreak\n",
      "33460.7214\tbreak\n",
      "34201\t1951392.81541\n",
      "34904.2498\tbreak\n",
      "35552.8725\tbreak\n",
      "35962.2754\tbreak\n",
      "36582.9257\tbreak\n",
      "36885.8661\tbreak\n",
      "37394.3437\tbreak\n",
      "37801\t1696859.31916\n",
      "38233.6465\tbreak\n",
      "38799.3348\tbreak\n",
      "39401\t1644752.19924\n",
      "40084.7509\tbreak\n",
      "40507.9975\tbreak\n",
      "40977.1922\tbreak\n",
      "41287.695\tbreak\n",
      "41501.3241\tbreak\n",
      "42025.5174\tbreak\n",
      "42739.5989\tbreak\n",
      "43201\t1455374.25316\n",
      "43925.92\tbreak\n",
      "44577.0165\tbreak\n",
      "45121.5691\tbreak\n",
      "45663.0089\tbreak\n",
      "46244.6217\tbreak\n",
      "46662.0195\tbreak\n",
      "47180.2427\tbreak\n",
      "47501.5494\tbreak\n",
      "48215.475\tbreak\n",
      "48681.6477\tbreak\n",
      "49109.9597\tbreak\n",
      "49601\t1057491.84418\n",
      "50168.0001\tbreak\n",
      "50601\t1021173.6991\n",
      "51001\t1000140.49699\n",
      "51716.5027\tbreak\n",
      "52142.9607\tbreak\n",
      "52653.778\tbreak\n",
      "53032.6258\tbreak\n",
      "53671.4071\tbreak\n",
      "54401\t881579.308156\n",
      "55038.8227\tbreak\n",
      "55554.6837\tbreak\n",
      "56121.0774\tbreak\n",
      "56628.536\tbreak\n",
      "56862.1768\tbreak\n",
      "57401\t747659.50845\n",
      "57801\t723956.562869\n",
      "58295.6636\tbreak\n",
      "59166.4231\tbreak\n",
      "59775.3295\tbreak\n",
      "60401\t577224.91518\n",
      "60664.8731\tbreak\n",
      "61277.5503\tbreak\n",
      "61928.4039\tbreak\n",
      "62364.2355\tbreak\n",
      "62883.2781\tbreak\n",
      "63388.7072\tbreak\n",
      "63855.9345\tbreak\n",
      "64292.5612\tbreak\n",
      "64791.2657\tbreak\n",
      "65122.0509\tbreak\n",
      "65741.1235\tbreak\n",
      "66214.9095\tbreak\n",
      "66751.2263\tbreak\n",
      "67069.4113\tbreak\n",
      "67429.6734\tbreak\n",
      "68001\t123916.053647\n",
      "68582.2688\tbreak\n",
      "68969.3384\tbreak\n"
     ]
    }
   ],
   "source": [
    "t = 70000\n",
    "i = -1\n",
    "print ('Time' + '\\tE')\n",
    "for event in short_events:\n",
    "    if event[1]:\n",
    "        print (str(event[0]) + '\\tbreak')\n",
    "        i += 1\n",
    "    else:\n",
    "        if i != -1:\n",
    "            print (str(event[0]) + '\\t' + str(conditional_expectation(t, event[0], lambda_values[i])))\n",
    "        else:\n",
    "            print (str(event[0]) + '\\t' + '0')"
   ]
  },
  {
   "cell_type": "code",
   "execution_count": null,
   "metadata": {
    "collapsed": true
   },
   "outputs": [],
   "source": []
  }
 ],
 "metadata": {
  "kernelspec": {
   "display_name": "Python 3",
   "language": "python",
   "name": "python3"
  },
  "language_info": {
   "codemirror_mode": {
    "name": "ipython",
    "version": 3
   },
   "file_extension": ".py",
   "mimetype": "text/x-python",
   "name": "python",
   "nbconvert_exporter": "python",
   "pygments_lexer": "ipython3",
   "version": "3.5.2+"
  }
 },
 "nbformat": 4,
 "nbformat_minor": 2
}
