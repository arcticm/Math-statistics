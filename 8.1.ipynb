{
 "cells": [
  {
   "cell_type": "markdown",
   "metadata": {
    "deletable": true,
    "editable": true
   },
   "source": [
    "Подключаем нужные библиотеки:"
   ]
  },
  {
   "cell_type": "code",
   "execution_count": 1,
   "metadata": {
    "collapsed": true,
    "deletable": true,
    "editable": true
   },
   "outputs": [],
   "source": [
    "import pandas as pd\n",
    "import numpy as np\n",
    "import scipy\n",
    "import scipy.stats as sps\n",
    "import matplotlib.pyplot as plt\n",
    "%matplotlib inline"
   ]
  },
  {
   "cell_type": "markdown",
   "metadata": {
    "deletable": true,
    "editable": true
   },
   "source": [
    "Задаём параметры $\\alpha, \\theta, \\lambda$ и n:"
   ]
  },
  {
   "cell_type": "code",
   "execution_count": 2,
   "metadata": {
    "collapsed": true,
    "deletable": true,
    "editable": true
   },
   "outputs": [],
   "source": [
    "alpha = 0.95\n",
    "first_theta = 1\n",
    "second_theta = 10\n",
    "lambda_value = 1\n",
    "n = 100"
   ]
  },
  {
   "cell_type": "markdown",
   "metadata": {
    "deletable": true,
    "editable": true
   },
   "source": [
    "Генерируем нужные нам выборки:"
   ]
  },
  {
   "cell_type": "code",
   "execution_count": 3,
   "metadata": {
    "collapsed": false,
    "deletable": true,
    "editable": true
   },
   "outputs": [],
   "source": [
    "uniform_sample = sps.uniform.rvs(size=n, loc=0, scale=first_theta)\n",
    "cauchy_sample = sps.cauchy.rvs(loc=first_theta,size=n)\n",
    "pois_sample = sps.poisson.rvs(first_theta,size=n)\n",
    "gamma_sample = sps.gamma.rvs(second_theta, scale=1.0/lambda_value,size=n)"
   ]
  },
  {
   "cell_type": "markdown",
   "metadata": {
    "deletable": true,
    "editable": true
   },
   "source": [
    "Определим функцию, которую  по заданному распределению будет строить доверительные интервалы уровня доверия $\\alpha$:"
   ]
  },
  {
   "cell_type": "code",
   "execution_count": 4,
   "metadata": {
    "collapsed": true,
    "deletable": true,
    "editable": true
   },
   "outputs": [],
   "source": [
    "def draw_interval(sample, confidence_interval_left, confidence_interval_right):\n",
    "    left_bound = confidence_interval_left(sample)\n",
    "    right_bound = confidence_interval_right(sample)\n",
    "    dots = range(1,101)\n",
    "    plt.fill_between(dots, left_bound, right_bound, antialiased=True, \\\n",
    "                     edgecolor = 'green', facecolor = 'orange', hatch = '-', linewidth=3.)\n",
    "    plt.show()"
   ]
  },
  {
   "cell_type": "markdown",
   "metadata": {
    "deletable": true,
    "editable": true
   },
   "source": [
    "Рассмотрим задачу №1 (доверительные интервалы для равномерного распрделения). В пункте а) для статистики $\\bar{X}$ доверительным интервалом будет: $(\\frac{\\bar{X}}{\\frac{1}{2} + \\sqrt{\\frac{1}{12n\\alpha}}}, \\frac{\\bar{X}}{\\frac{1}{2} - \\sqrt{\\frac{1}{12n\\alpha}}})$:"
   ]
  },
  {
   "cell_type": "code",
   "execution_count": 5,
   "metadata": {
    "collapsed": true,
    "deletable": true,
    "editable": true
   },
   "outputs": [],
   "source": [
    "def uniform_mean_left_limit(sample):\n",
    "    return [np.mean(sample[:i + 1]) / (1. / 2. + np.sqrt(1./(12. * (alpha) * (i + 1)))) \n",
    "                for i in range(len(sample))]\n",
    "def uniform_mean_right_limit(sample):\n",
    "    return [np.mean(sample[:i + 1]) / (1. / 2. - np.sqrt(1./(12. * (alpha) * (i + 1)))) \n",
    "                for i in range(len(sample))]"
   ]
  },
  {
   "cell_type": "markdown",
   "metadata": {
    "deletable": true,
    "editable": true
   },
   "source": [
    "В пункте б) точным доверительным интервалом уровня $\\alpha$ (для статистики $X_{(1)}$) будет $(X_{(1)}, \\frac{X_{(1)}}{1 - \\sqrt[n]{\\alpha}})$:"
   ]
  },
  {
   "cell_type": "code",
   "execution_count": 6,
   "metadata": {
    "collapsed": true,
    "deletable": true,
    "editable": true
   },
   "outputs": [],
   "source": [
    "def uniform_min_left_limit(sample):\n",
    "    return [np.min(sample[:i + 1]) \n",
    "            for i in range(len(sample))]\n",
    "def uniform_min_right_limit(sample):\n",
    "    return [np.min(sample[:i + 1]) / float(1. - ((alpha)) ** (1. / len(sample[:i + 1]))) \n",
    "            for i in range(len(sample))]"
   ]
  },
  {
   "cell_type": "markdown",
   "metadata": {
    "deletable": true,
    "editable": true
   },
   "source": [
    "В пункте в) точным доверительным интервалом уровня $\\alpha$ (для статистики $X_{(n)}$) будет $(X_{(n)}, \\frac{X_{(n)}}{\\sqrt[n]{1 - \\alpha}})$:"
   ]
  },
  {
   "cell_type": "code",
   "execution_count": 7,
   "metadata": {
    "collapsed": true,
    "deletable": true,
    "editable": true
   },
   "outputs": [],
   "source": [
    "def uniform_max_left_limit(sample):\n",
    "    return [np.max(sample[:i + 1])\n",
    "            for i in range(len(sample))]\n",
    "def uniform_max_right_limit(sample):\n",
    "    return [np.max(sample[:i + 1]) / float(((1. - alpha)) ** (1. / len(sample[:i + 1]))) \n",
    "            for i in range(len(sample))]"
   ]
  },
  {
   "cell_type": "markdown",
   "metadata": {
    "deletable": true,
    "editable": true
   },
   "source": [
    "Теперь строим интервалы для пунктов а, б, в №1:"
   ]
  },
  {
   "cell_type": "code",
   "execution_count": 8,
   "metadata": {
    "collapsed": false,
    "deletable": true,
    "editable": true
   },
   "outputs": [
    {
     "data": {
      "image/png": "[encoded data removed]",
      "text/plain": [
       "<matplotlib.figure.Figure at 0x7f69ef864b38>"
      ]
     },
     "metadata": {},
     "output_type": "display_data"
    }
   ],
   "source": [
    "draw_interval(uniform_sample, uniform_mean_left_limit, uniform_mean_right_limit)"
   ]
  },
  {
   "cell_type": "code",
   "execution_count": 9,
   "metadata": {
    "collapsed": false,
    "deletable": true,
    "editable": true
   },
   "outputs": [
    {
     "data": {
      "image/png": "[encoded data removed]",
      "text/plain": [
       "<matplotlib.figure.Figure at 0x7f69f985c9e8>"
      ]
     },
     "metadata": {},
     "output_type": "display_data"
    }
   ],
   "source": [
    "draw_interval(uniform_sample, uniform_min_left_limit, uniform_min_right_limit)"
   ]
  },
  {
   "cell_type": "code",
   "execution_count": 10,
   "metadata": {
    "collapsed": false,
    "deletable": true,
    "editable": true
   },
   "outputs": [
    {
     "data": {
      "image/png": "[encoded data removed]",
      "text/plain": [
       "<matplotlib.figure.Figure at 0x7f69ed70fba8>"
      ]
     },
     "metadata": {},
     "output_type": "display_data"
    }
   ],
   "source": [
    "draw_interval(uniform_sample, uniform_max_left_limit, uniform_max_right_limit)"
   ]
  },
  {
   "cell_type": "markdown",
   "metadata": {},
   "source": [
    "Судя по графикам, можем сказать, что интервал в случае со статистикой $\\bar{X}$ вышел наилучшим."
   ]
  },
  {
   "cell_type": "markdown",
   "metadata": {
    "collapsed": true,
    "deletable": true,
    "editable": true
   },
   "source": [
    "Рассмотрим задачу №3. Доверительным интервалом для распределения Коши будет: $(\\mu - \\frac{\\pi}{2\\sqrt{n}}u_{\\frac{1+\\alpha}{2}},\\mu - \\frac{\\pi}{2\\sqrt{n}}u_{\\frac{1-\\alpha}{2}})$, где $\\mu$ - медиана, а u - квантиль стандартного нормального распределения:"
   ]
  },
  {
   "cell_type": "code",
   "execution_count": 11,
   "metadata": {
    "collapsed": true,
    "deletable": true,
    "editable": true
   },
   "outputs": [],
   "source": [
    "def cauchy_left_limit(sample):\n",
    "    return [np.median(sample[:i + 1]) - (np.pi / 2.) * (sps.norm.ppf((1. + alpha) / 2.)) / \n",
    "            (np.sqrt(len(sample[:i + 1]))) for i in range(len(sample))]\n",
    "def cauchy_right_limit(sample):\n",
    "    return [np.median(sample[:i + 1]) - (np.pi / 2.) * (sps.norm.ppf((1. - alpha) / 2.)) / \n",
    "            (np.sqrt(len(sample[:i + 1]))) for i in range(len(sample))]"
   ]
  },
  {
   "cell_type": "code",
   "execution_count": 12,
   "metadata": {
    "collapsed": false,
    "deletable": true,
    "editable": true
   },
   "outputs": [
    {
     "data": {
      "image/png": "[encoded data removed]",
      "text/plain": [
       "<matplotlib.figure.Figure at 0x7f69ed78ba20>"
      ]
     },
     "metadata": {},
     "output_type": "display_data"
    }
   ],
   "source": [
    "draw_interval(cauchy_sample, cauchy_left_limit, cauchy_right_limit)"
   ]
  },
  {
   "cell_type": "markdown",
   "metadata": {
    "deletable": true,
    "editable": true
   },
   "source": [
    "В задаче №4 для пуассоновского распределения доверительным интервалом уровня доверия $\\alpha$ будет $(\\bar{X} - \\sqrt{\\frac{\\bar{X}}{n}}u_{\\frac{1+\\alpha}{2}}, \\bar{X} - \\sqrt{\\frac{\\bar{X}}{n}}u_{\\frac{1-\\alpha}{2}})$"
   ]
  },
  {
   "cell_type": "code",
   "execution_count": 13,
   "metadata": {
    "collapsed": true,
    "deletable": true,
    "editable": true
   },
   "outputs": [],
   "source": [
    "def poisson_left_limit(sample):\n",
    "    return [np.mean(sample[:i + 1]) - (sps.norm.ppf((1. + alpha) / 2.)) * np.sqrt(np.mean(sample[:i + 1]) / (i + 1.)) \n",
    "            for i in range(len(sample))]\n",
    "          \n",
    "def poisson_right_limit(sample):\n",
    "    return [np.mean(sample[:i + 1]) - (sps.norm.ppf((1. - alpha) / 2.)) * np.sqrt(np.mean(sample[:i + 1]) / (i + 1.)) \n",
    "            for i in range(len(sample))]\n"
   ]
  },
  {
   "cell_type": "code",
   "execution_count": 14,
   "metadata": {
    "collapsed": false,
    "deletable": true,
    "editable": true
   },
   "outputs": [
    {
     "data": {
      "image/png": "[encoded data removed]",
      "text/plain": [
       "<matplotlib.figure.Figure at 0x7f69ed666048>"
      ]
     },
     "metadata": {},
     "output_type": "display_data"
    }
   ],
   "source": [
    "draw_interval(pois_sample, poisson_left_limit, poisson_right_limit)"
   ]
  },
  {
   "cell_type": "markdown",
   "metadata": {
    "deletable": true,
    "editable": true
   },
   "source": [
    "В задаче №5 для гамма-распределения в случае, когда $\\lambda$ известно, доверительным интервалом уровня доверия $\\alpha$ будет $(\\lambda \\bar{X} - \\sqrt{\\frac{\\bar{X}}{n}}u_{\\frac{1+\\alpha}{2}}, \\lambda \\bar{X} + \\sqrt{\\frac{\\bar{X}}{n}}u_{\\frac{1+\\alpha}{2}})$:"
   ]
  },
  {
   "cell_type": "code",
   "execution_count": 15,
   "metadata": {
    "collapsed": true,
    "deletable": true,
    "editable": true
   },
   "outputs": [],
   "source": [
    "def gamma_known_lambda_left_limit(sample):\n",
    "    return [lambda_value * np.mean(sample[:i + 1]) - (sps.norm.ppf((1. + alpha) / 2.)) * np.sqrt(np.mean(sample[:i + 1]) / (i + 1.))\n",
    "            for i in range(len(sample))]\n",
    "def gamma_known_lambda_right_limit(sample):          \n",
    "    return [lambda_value * np.mean(sample[:i + 1]) + (sps.norm.ppf((1. + alpha) / 2.)) * np.sqrt(np.mean(sample[:i + 1]) / (i + 1.))\n",
    "            for i in range(len(sample))]"
   ]
  },
  {
   "cell_type": "code",
   "execution_count": 16,
   "metadata": {
    "collapsed": false,
    "deletable": true,
    "editable": true
   },
   "outputs": [
    {
     "data": {
      "image/png": "[encoded data removed]",
      "text/plain": [
       "<matplotlib.figure.Figure at 0x7f69ed673438>"
      ]
     },
     "metadata": {},
     "output_type": "display_data"
    }
   ],
   "source": [
    "draw_interval(gamma_sample,gamma_known_lambda_left_limit, gamma_known_lambda_right_limit)"
   ]
  },
  {
   "cell_type": "markdown",
   "metadata": {
    "deletable": true,
    "editable": true
   },
   "source": [
    "Теперь оценим вероятность попадания истинного значения $\\theta$ в интервал. Для этого мы будем генерировать 1000 выборок, посчитаем для каждой из них интервалы и определим, сколько раз в интервалы попадает истинное значение $\\theta$. Но первым делом определим размеры выборок first_size и second_size, а также функции, считающие левые и правые границы интевала:"
   ]
  },
  {
   "cell_type": "code",
   "execution_count": 17,
   "metadata": {
    "collapsed": true,
    "deletable": true,
    "editable": true
   },
   "outputs": [],
   "source": [
    "first_size = 10\n",
    "second_size = 100\n",
    "\n",
    "def uniform_mean_left_limit_all(sample):\n",
    "    return np.mean(sample) / (1. / 2. + np.sqrt(1./(12. * (alpha) * len(sample)))) \n",
    "def uniform_mean_right_limit_all(sample):\n",
    "    return np.mean(sample) / (1. / 2. - np.sqrt(1./(12. * (alpha) * len(sample))))\n",
    "\n",
    "def uniform_min_left_limit_all(sample):\n",
    "    return np.min(sample)\n",
    "def uniform_min_right_limit_all(sample):\n",
    "    return np.min(sample) / float(1. - ((alpha)) ** (1. / len(sample)))\n",
    "\n",
    "def uniform_max_left_limit_all(sample):\n",
    "    return np.max(sample)\n",
    "def uniform_max_right_limit_all(sample):\n",
    "    return np.max(sample) / float(((1. - alpha)) ** (1. / len(sample)))\n",
    "\n",
    "def cauchy_left_limit_all(sample):\n",
    "    return np.median(sample) - (np.pi / 2.) * (sps.norm.ppf((1. + alpha) / 2.)) / (np.sqrt(len(sample)))\n",
    "def cauchy_right_limit_all(sample):\n",
    "    return np.median(sample) - (np.pi / 2.) * (sps.norm.ppf((1. - alpha) / 2.)) / (np.sqrt(len(sample)))\n",
    "\n",
    "def poisson_left_limit_all(sample):\n",
    "    return np.mean(sample) - (sps.norm.ppf((1. + alpha) / 2.)) * np.sqrt(np.mean(sample) / len(sample)) \n",
    "def poisson_right_limit_all(sample):\n",
    "    return np.mean(sample) - (sps.norm.ppf((1. - alpha) / 2.)) * np.sqrt(np.mean(sample) / len(sample))\n",
    "\n",
    "def gamma_known_lambda_left_limit_all(sample):\n",
    "    return lambda_value * np.mean(sample) - (sps.norm.ppf((1. + alpha) / 2.)) * np.sqrt(np.mean(sample) / len(sample))\n",
    "def gamma_known_lambda_right_limit_all(sample):          \n",
    "    return lambda_value * np.mean(sample) + (sps.norm.ppf((1. + alpha) / 2.)) * np.sqrt(np.mean(sample) / len(sample))"
   ]
  },
  {
   "cell_type": "markdown",
   "metadata": {
    "deletable": true,
    "editable": true
   },
   "source": [
    "Теперь определим функцию, которая по заданному распределению будет считать искомую вероятность для размеров выборок first_size и second_size:"
   ]
  },
  {
   "cell_type": "code",
   "execution_count": 18,
   "metadata": {
    "collapsed": false,
    "deletable": true,
    "editable": true
   },
   "outputs": [],
   "source": [
    "def probability(samples_little, samples_big, left_limit, right_limit, theta_value):\n",
    "    count_little = 0\n",
    "    count_big = 0\n",
    "    left_limits_little = np.array([left_limit(samples_little[i]) for i in range(1000)])\n",
    "    right_limits_little = np.array([right_limit(samples_little[i]) for i in range(1000)])\n",
    "    left_limits_big = np.array([left_limit(samples_big[i]) for i in range(1000)])\n",
    "    right_limits_big = np.array([right_limit(samples_big[i]) for i in range(1000)])\n",
    "    for i in range(1000):\n",
    "        if left_limits_little[i] < theta_value and theta_value < right_limits_little[i]:\n",
    "            count_little += 1\n",
    "    for i in range(1000):\n",
    "        if left_limits_big[i] < theta_value and theta_value < right_limits_big[i]:\n",
    "            count_big += 1\n",
    "    print(\"Для размера выборки first_size = 10, вероятность равна:\", float(count_little) / 1000.0)\n",
    "    print(\"Для размера выборки second_size = 100, вероятность равна:\", float(count_big) / 1000.0)"
   ]
  },
  {
   "cell_type": "markdown",
   "metadata": {
    "deletable": true,
    "editable": true
   },
   "source": [
    "Генерируем 1000 выборок из равномерного распределения и считаем вероятности для всех интервалов:"
   ]
  },
  {
   "cell_type": "code",
   "execution_count": 19,
   "metadata": {
    "collapsed": true,
    "deletable": true,
    "editable": true
   },
   "outputs": [],
   "source": [
    "uniform_samples_little = np.array([\n",
    "    sps.uniform.rvs(size=first_size, loc=0, scale=first_theta)\n",
    "    for i in range(1000)\n",
    "])\n",
    "uniform_samples_big = np.array([\n",
    "    sps.uniform.rvs(size=second_size, loc=0, scale=first_theta)\n",
    "    for i in range(1000)\n",
    "])"
   ]
  },
  {
   "cell_type": "markdown",
   "metadata": {
    "deletable": true,
    "editable": true
   },
   "source": [
    "Для первого интервала (статистика $\\bar{X}$):"
   ]
  },
  {
   "cell_type": "code",
   "execution_count": 20,
   "metadata": {
    "collapsed": false,
    "deletable": true,
    "editable": true
   },
   "outputs": [
    {
     "name": "stdout",
     "output_type": "stream",
     "text": [
      "Для размера выборки first_size = 10, вероятность равна: 0.666\n",
      "Для размера выборки second_size = 100, вероятность равна: 0.707\n"
     ]
    }
   ],
   "source": [
    "probability(uniform_samples_little, uniform_samples_big, \n",
    "            uniform_mean_left_limit_all, uniform_mean_right_limit_all, first_theta)"
   ]
  },
  {
   "cell_type": "markdown",
   "metadata": {
    "deletable": true,
    "editable": true
   },
   "source": [
    "Для второго интервала (статистика $X_{(1)})$:"
   ]
  },
  {
   "cell_type": "code",
   "execution_count": 21,
   "metadata": {
    "collapsed": false,
    "deletable": true,
    "editable": true
   },
   "outputs": [
    {
     "name": "stdout",
     "output_type": "stream",
     "text": [
      "Для размера выборки first_size = 10, вероятность равна: 0.949\n",
      "Для размера выборки second_size = 100, вероятность равна: 0.943\n"
     ]
    }
   ],
   "source": [
    "probability(uniform_samples_little, uniform_samples_big, \n",
    "            uniform_min_left_limit_all, uniform_min_right_limit_all, first_theta)"
   ]
  },
  {
   "cell_type": "markdown",
   "metadata": {
    "deletable": true,
    "editable": true
   },
   "source": [
    "Для третьего интервала (статистика $X_{(n)}$):"
   ]
  },
  {
   "cell_type": "code",
   "execution_count": 22,
   "metadata": {
    "collapsed": false,
    "deletable": true,
    "editable": true
   },
   "outputs": [
    {
     "name": "stdout",
     "output_type": "stream",
     "text": [
      "Для размера выборки first_size = 10, вероятность равна: 0.948\n",
      "Для размера выборки second_size = 100, вероятность равна: 0.951\n"
     ]
    }
   ],
   "source": [
    "probability(uniform_samples_little, uniform_samples_big, \n",
    "            uniform_max_left_limit_all, uniform_max_right_limit_all, first_theta)"
   ]
  },
  {
   "cell_type": "markdown",
   "metadata": {
    "deletable": true,
    "editable": true
   },
   "source": [
    "Генерируем 1000 выборок из распределения Коши и считаем вероятность:"
   ]
  },
  {
   "cell_type": "code",
   "execution_count": 23,
   "metadata": {
    "collapsed": true,
    "deletable": true,
    "editable": true
   },
   "outputs": [],
   "source": [
    "cauchy_samples_little = np.array([\n",
    "    sps.cauchy.rvs(loc=first_theta, size=first_size)\n",
    "    for i in range(1000)\n",
    "])\n",
    "cauchy_samples_big = np.array([\n",
    "    sps.cauchy.rvs(loc=first_theta, size=second_size)\n",
    "    for i in range(1000)\n",
    "])"
   ]
  },
  {
   "cell_type": "code",
   "execution_count": 24,
   "metadata": {
    "collapsed": false,
    "deletable": true,
    "editable": true
   },
   "outputs": [
    {
     "name": "stdout",
     "output_type": "stream",
     "text": [
      "Для размера выборки first_size = 10, вероятность равна: 0.923\n",
      "Для размера выборки second_size = 100, вероятность равна: 0.943\n"
     ]
    }
   ],
   "source": [
    "probability(cauchy_samples_little, cauchy_samples_big, \n",
    "            cauchy_left_limit_all, cauchy_right_limit_all, first_theta)"
   ]
  },
  {
   "cell_type": "markdown",
   "metadata": {
    "deletable": true,
    "editable": true
   },
   "source": [
    "Генерируем 1000 выборок из распределения Пуассона и считаем вероятность:"
   ]
  },
  {
   "cell_type": "code",
   "execution_count": 25,
   "metadata": {
    "collapsed": true,
    "deletable": true,
    "editable": true
   },
   "outputs": [],
   "source": [
    "pois_samples_little = np.array([\n",
    "    sps.poisson.rvs(first_theta, size=first_size)\n",
    "    for i in range(1000)\n",
    "])\n",
    "pois_samples_big = np.array([\n",
    "    sps.poisson.rvs(first_theta, size=second_size)\n",
    "    for i in range(1000)\n",
    "])"
   ]
  },
  {
   "cell_type": "code",
   "execution_count": 26,
   "metadata": {
    "collapsed": false,
    "deletable": true,
    "editable": true
   },
   "outputs": [
    {
     "name": "stdout",
     "output_type": "stream",
     "text": [
      "Для размера выборки first_size = 10, вероятность равна: 0.918\n",
      "Для размера выборки second_size = 100, вероятность равна: 0.951\n"
     ]
    }
   ],
   "source": [
    "probability(pois_samples_little, pois_samples_big, \n",
    "            poisson_left_limit_all, poisson_right_limit_all, first_theta)"
   ]
  },
  {
   "cell_type": "markdown",
   "metadata": {
    "deletable": true,
    "editable": true
   },
   "source": [
    "Генерируем 1000 выборок из гамма-распределения и считаем вероятность:"
   ]
  },
  {
   "cell_type": "code",
   "execution_count": 27,
   "metadata": {
    "collapsed": true,
    "deletable": true,
    "editable": true
   },
   "outputs": [],
   "source": [
    "gamma_samples_little = np.array([\n",
    "    sps.gamma.rvs(second_theta, scale=1.0/lambda_value, size=first_size)\n",
    "    for i in range(1000)\n",
    "])\n",
    "gamma_samples_big = np.array([\n",
    "    sps.gamma.rvs(second_theta, scale=1.0/lambda_value, size=second_size)\n",
    "    for i in range(1000)\n",
    "])"
   ]
  },
  {
   "cell_type": "code",
   "execution_count": 28,
   "metadata": {
    "collapsed": false,
    "deletable": true,
    "editable": true
   },
   "outputs": [
    {
     "name": "stdout",
     "output_type": "stream",
     "text": [
      "Для размера выборки first_size = 10, вероятность равна: 0.94\n",
      "Для размера выборки second_size = 100, вероятность равна: 0.949\n"
     ]
    }
   ],
   "source": [
    "probability(gamma_samples_little, gamma_samples_big, \n",
    "            gamma_known_lambda_left_limit_all, gamma_known_lambda_right_limit_all, second_theta)"
   ]
  }
 ],
 "metadata": {
  "kernelspec": {
   "display_name": "Python 3",
   "language": "python",
   "name": "python3"
  },
  "language_info": {
   "codemirror_mode": {
    "name": "ipython",
    "version": 3
   },
   "file_extension": ".py",
   "mimetype": "text/x-python",
   "name": "python",
   "nbconvert_exporter": "python",
   "pygments_lexer": "ipython3",
   "version": "3.5.2+"
  }
 },
 "nbformat": 4,
 "nbformat_minor": 2
}
