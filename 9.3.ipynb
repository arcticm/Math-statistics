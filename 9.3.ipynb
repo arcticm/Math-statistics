{
 "cells": [
  {
   "cell_type": "code",
   "execution_count": 1,
   "metadata": {
    "collapsed": true,
    "deletable": true,
    "editable": true
   },
   "outputs": [],
   "source": [
    "import pandas as pd\n",
    "import numpy as np\n",
    "import scipy.stats as sps\n",
    "import matplotlib.pyplot as plt\n",
    "%matplotlib inline"
   ]
  },
  {
   "cell_type": "markdown",
   "metadata": {
    "deletable": true,
    "editable": true
   },
   "source": [
    "Зададим параметр $\\gamma$ из условия:"
   ]
  },
  {
   "cell_type": "code",
   "execution_count": 2,
   "metadata": {
    "collapsed": true,
    "deletable": true,
    "editable": true
   },
   "outputs": [],
   "source": [
    "gamma = 0.95"
   ]
  },
  {
   "cell_type": "markdown",
   "metadata": {
    "deletable": true,
    "editable": true
   },
   "source": [
    "Для построения точного доверительного интервала уровня доверия $\\gamma$ для $\\alpha$ при известном $\\sigma^2$ за центральную статистику примем $\\frac{\\sum_{i=1}^n X_i - \\alpha n}{\\sigma \\sqrt{n}} \\sim N(0,1)$. Тогда $P(u_{\\frac{1-\\gamma}{2}} \\le \\frac{\\sum_{i=1}^n X_i - \\alpha n}{\\sigma \\sqrt{n}} \\le u_{\\frac{1+\\gamma}{2}}) = \\gamma$, где $u_{\\frac{1-\\gamma}{2}}, u_{\\frac{1+\\gamma}{2}}$ - квантили стандартного нормального распределения. Преобразуем данное выражение к следующему виду: $P(\\frac{\\sum_{i=1}^n X_i - \\sigma \\sqrt{n} u_{\\frac{1+\\gamma}{2}}}{n} \\le \\alpha \\le \\frac{\\sum_{i=1}^n X_i - \\sigma \\sqrt{n} u_{\\frac{1-\\gamma}{2}}}{n}) = \\gamma$. Теперь мы легко можем определить функцию, по которой мы будем строить точный доверительный интервал:"
   ]
  },
  {
   "cell_type": "code",
   "execution_count": 3,
   "metadata": {
    "collapsed": true,
    "deletable": true,
    "editable": true
   },
   "outputs": [],
   "source": [
    "def a_sigma_known(sample, gamma, sigma):\n",
    "    sum_of_sample = np.sum(sample)\n",
    "    first_quantile = sps.norm.ppf((1. - gamma) / 2.)\n",
    "    second_quantile = sps.norm.ppf((1. + gamma) / 2.)\n",
    "    return ((sum_of_sample - sigma * np.sqrt(len(sample)) * second_quantile) / float(len(sample)) ,\\\n",
    "            (sum_of_sample - sigma * np.sqrt(len(sample)) * first_quantile) / float(len(sample)) )"
   ]
  },
  {
   "cell_type": "markdown",
   "metadata": {
    "deletable": true,
    "editable": true
   },
   "source": [
    "Для построения интервала для $\\sigma^2$  при известном $\\alpha$ проделаем следующие операции. Сначала вычтем математическое ожидание $\\alpha$, тогда мы получим нормальное распределение с нулевым матожиданием. Далее, чтобы получить стандартное нормальное, разделим на $\\sqrt{D}$, то есть на корень из дисперсии. Получим сумму n квадратов стандартных нормальных распределений, которая распределена как $\\chi^2$ с n степенями свободы:$\\frac{1}{\\sigma^2}\\sum_{i=1}^n (X_i-\\alpha)^2 \\sim \\chi_n^2$. Следовательно $P(\\frac{1}{\\sigma^2}\\sum_{i=1}^n (X_i-\\alpha)^2 \\ge u_{1-\\gamma}) = \\gamma$, где $u_{1-\\gamma}$-квантиль уровня $1-\\gamma$ распределения хи-квадрат с n степенями свободы. Получаем точный доверительный интервал: $P(0 \\le \\sigma^2 \\le \\frac{\\sum_{i=1}^n (X_i-\\alpha)^2}{u_{1-\\gamma}}) = \\gamma$. Теперь определяем функцию, по которой будем строить точный доверительный интервал:"
   ]
  },
  {
   "cell_type": "code",
   "execution_count": 4,
   "metadata": {
    "collapsed": true,
    "deletable": true,
    "editable": true
   },
   "outputs": [],
   "source": [
    "def sigma_a_known(sample, gamma, alpha):\n",
    "    sum_of_sample = np.sum((sample - alpha) ** 2)\n",
    "    quantile = sps.chi2.ppf((1. - gamma), len(sample))\n",
    "    return (0,(sum_of_sample / (float(quantile))))"
   ]
  },
  {
   "cell_type": "markdown",
   "metadata": {
    "deletable": true,
    "editable": true
   },
   "source": [
    "Для построения оставшихся интервалов воспользуемся материалами с лекции: $P(0 \\le \\sigma^2 \\le \\frac{nS^2}{u_{1-\\gamma}}) = \\gamma$, где $u_{1-\\gamma}$ квантиль хи-квадрат распределения с n-1 степенями свободы; $P(\\bar{X} - \\sqrt{\\frac{S^2}{n-1}}z_{\\frac{1+\\gamma}{2}} \\le \\alpha \\le \\bar{X} + \\sqrt{\\frac{S^2}{n-1}}z_{\\frac{1+\\gamma}{2}}) = \\gamma$, где $z_{\\frac{1+\\gamma}{2}}$ - квантиль распределения Стьюдента с n-1 степенями свободы. Задаём функции, по которым будем строить интервалы:"
   ]
  },
  {
   "cell_type": "code",
   "execution_count": 5,
   "metadata": {
    "collapsed": true,
    "deletable": true,
    "editable": true
   },
   "outputs": [],
   "source": [
    "def a_sigma_unknown(sample, gamma):\n",
    "    sample_variance = (sample ** 2).mean() - sample.mean()\n",
    "    quantile = sps.t.ppf((1. + gamma) / 2., len(sample) - 1)\n",
    "    return ((sample.mean() - np.sqrt(sample_variance / float(len(sample) - 1)) *  quantile), \\\n",
    "             (sample.mean() + np.sqrt(sample_variance / float(len(sample) - 1)) *  quantile))"
   ]
  },
  {
   "cell_type": "code",
   "execution_count": 6,
   "metadata": {
    "collapsed": true,
    "deletable": true,
    "editable": true
   },
   "outputs": [],
   "source": [
    "def sigma_a_unknown(sample, gamma):\n",
    "    sample_variance = (sample ** 2).mean() - sample.mean()\n",
    "    quantile = sps.chi2.ppf(1.-gamma, len(sample) - 1)\n",
    "    return (0, len(sample) * sample_variance / float(quantile))"
   ]
  },
  {
   "cell_type": "markdown",
   "metadata": {
    "deletable": true,
    "editable": true
   },
   "source": [
    "Теперь определяем функцию, которая будет выдавать нам интервалы:"
   ]
  },
  {
   "cell_type": "code",
   "execution_count": 7,
   "metadata": {
    "collapsed": true,
    "deletable": true,
    "editable": true
   },
   "outputs": [],
   "source": [
    "def interval(gamma, interval_function, parameter = np.inf):\n",
    "    sample = sps.norm.rvs(size=100)\n",
    "    if parameter != np.inf:\n",
    "        answer =  interval_function(sample, gamma, parameter)\n",
    "    else:\n",
    "        answer =  interval_function(sample, gamma)\n",
    "    return answer"
   ]
  },
  {
   "cell_type": "code",
   "execution_count": 8,
   "metadata": {
    "collapsed": false,
    "deletable": true,
    "editable": true
   },
   "outputs": [
    {
     "data": {
      "text/plain": [
       "(-0.15052955534356732, 0.24146324156444343)"
      ]
     },
     "execution_count": 8,
     "metadata": {},
     "output_type": "execute_result"
    }
   ],
   "source": [
    "first = interval(gamma, a_sigma_known, 1)\n",
    "first"
   ]
  },
  {
   "cell_type": "code",
   "execution_count": 9,
   "metadata": {
    "collapsed": false,
    "deletable": true,
    "editable": true
   },
   "outputs": [
    {
     "data": {
      "text/plain": [
       "(0, 1.138333001504888)"
      ]
     },
     "execution_count": 9,
     "metadata": {},
     "output_type": "execute_result"
    }
   ],
   "source": [
    "second = interval(gamma, sigma_a_known, 0)\n",
    "second"
   ]
  },
  {
   "cell_type": "code",
   "execution_count": 10,
   "metadata": {
    "collapsed": false,
    "deletable": true,
    "editable": true
   },
   "outputs": [
    {
     "data": {
      "text/plain": [
       "(-0.0092268321120237973, 0.36584048759107801)"
      ]
     },
     "execution_count": 10,
     "metadata": {},
     "output_type": "execute_result"
    }
   ],
   "source": [
    "third = interval(gamma, a_sigma_unknown)\n",
    "third"
   ]
  },
  {
   "cell_type": "code",
   "execution_count": 11,
   "metadata": {
    "collapsed": false,
    "deletable": true,
    "editable": true
   },
   "outputs": [
    {
     "data": {
      "text/plain": [
       "(0, 1.1993869991294301)"
      ]
     },
     "execution_count": 11,
     "metadata": {},
     "output_type": "execute_result"
    }
   ],
   "source": [
    "fourth = interval(gamma, sigma_a_unknown)\n",
    "fourth"
   ]
  },
  {
   "cell_type": "markdown",
   "metadata": {
    "collapsed": true,
    "deletable": true,
    "editable": true
   },
   "source": [
    "Теперь остаётся изобразить данные интервалы:"
   ]
  },
  {
   "cell_type": "code",
   "execution_count": 12,
   "metadata": {
    "collapsed": true
   },
   "outputs": [],
   "source": [
    "a = np.linspace(first[0], first[1], 1000)\n",
    "b = np.linspace(second[0], second[1], 1000)\n",
    "c = np.linspace(third[0], third[1], 1000)\n",
    "d = np.linspace(fourth[0], fourth[1], 1000)"
   ]
  },
  {
   "cell_type": "code",
   "execution_count": 13,
   "metadata": {
    "collapsed": false
   },
   "outputs": [
    {
     "data": {
      "image/png": "[encoded data removed]",
      "text/plain": [
       "<matplotlib.figure.Figure at 0x7f0e623dd438>"
      ]
     },
     "metadata": {},
     "output_type": "display_data"
    }
   ],
   "source": [
    "plt.figure(figsize=(15,5))\n",
    "plt.plot(a, [0.5] * len(a), linewidth = 3, label = 'a known sigma')\n",
    "plt.plot(c, [-0.5] * len(c), linewidth = 3, label = 'a unknown sigma')\n",
    "plt.legend(bbox_to_anchor=(0., 1.02, 1., .102), loc=3, ncol=2, mode=\"expand\")\n",
    "plt.show()"
   ]
  },
  {
   "cell_type": "code",
   "execution_count": 14,
   "metadata": {
    "collapsed": false
   },
   "outputs": [
    {
     "data": {
      "text/plain": [
       "<matplotlib.collections.PolyCollection at 0x7f0e602f9f98>"
      ]
     },
     "execution_count": 14,
     "metadata": {},
     "output_type": "execute_result"
    },
    {
     "data": {
      "image/png": "[encoded data removed]",
      "text/plain": [
       "<matplotlib.figure.Figure at 0x7f0e623ddcf8>"
      ]
     },
     "metadata": {},
     "output_type": "display_data"
    }
   ],
   "source": [
    "plt.fill_between(c,d)"
   ]
  }
 ],
 "metadata": {
  "kernelspec": {
   "display_name": "Python 3",
   "language": "python",
   "name": "python3"
  },
  "language_info": {
   "codemirror_mode": {
    "name": "ipython",
    "version": 3
   },
   "file_extension": ".py",
   "mimetype": "text/x-python",
   "name": "python",
   "nbconvert_exporter": "python",
   "pygments_lexer": "ipython3",
   "version": "3.5.2+"
  }
 },
 "nbformat": 4,
 "nbformat_minor": 2
}
